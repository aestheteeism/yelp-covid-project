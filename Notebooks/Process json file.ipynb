{
 "cells": [
  {
   "cell_type": "code",
   "execution_count": 1,
   "id": "spare-brighton",
   "metadata": {
    "execution": {
     "iopub.execute_input": "2021-04-30T13:00:49.048989Z",
     "iopub.status.busy": "2021-04-30T13:00:49.048322Z",
     "iopub.status.idle": "2021-04-30T13:00:49.188819Z",
     "shell.execute_reply": "2021-04-30T13:00:49.188066Z"
    },
    "papermill": {
     "duration": 0.156761,
     "end_time": "2021-04-30T13:00:49.189024",
     "exception": false,
     "start_time": "2021-04-30T13:00:49.032263",
     "status": "completed"
    },
    "tags": []
   },
   "outputs": [],
   "source": [
    "import pymongo\n",
    "import json\n",
    "import pandas as pd\n",
    "from tqdm import tqdm"
   ]
  },
  {
   "cell_type": "code",
   "execution_count": 2,
   "id": "royal-progressive",
   "metadata": {
    "execution": {
     "iopub.execute_input": "2021-04-30T13:00:49.208757Z",
     "iopub.status.busy": "2021-04-30T13:00:49.207981Z",
     "iopub.status.idle": "2021-04-30T13:03:24.447374Z",
     "shell.execute_reply": "2021-04-30T13:03:24.448142Z"
    },
    "papermill": {
     "duration": 155.253399,
     "end_time": "2021-04-30T13:03:24.448572",
     "exception": false,
     "start_time": "2021-04-30T13:00:49.195173",
     "status": "completed"
    },
    "tags": []
   },
   "outputs": [
    {
     "name": "stderr",
     "output_type": "stream",
     "text": [
      "8635403it [02:35, 55633.49it/s]\n"
     ]
    }
   ],
   "source": [
    "data = {\"business_id\":[],\"text\":[],\"stars\":[],\"date\":[]}\n",
    "\n",
    "with open('../input/yelp-dataset/yelp_academic_dataset_review.json') as f:\n",
    "    for line in tqdm(f):\n",
    "        review = json.loads(line)\n",
    "        if review['date'] > '2020-01-01':\n",
    "            data['business_id'].append(review['business_id'])\n",
    "            data['text'].append(review['text'])\n",
    "            data['stars'].append(review['stars'])\n",
    "            data['date'].append(review['date'])"
   ]
  },
  {
   "cell_type": "code",
   "execution_count": 3,
   "id": "assured-middle",
   "metadata": {
    "execution": {
     "iopub.execute_input": "2021-04-30T13:03:25.526215Z",
     "iopub.status.busy": "2021-04-30T13:03:25.523940Z",
     "iopub.status.idle": "2021-04-30T13:03:26.267808Z",
     "shell.execute_reply": "2021-04-30T13:03:26.268315Z"
    },
    "papermill": {
     "duration": 1.354234,
     "end_time": "2021-04-30T13:03:26.268521",
     "exception": false,
     "start_time": "2021-04-30T13:03:24.914287",
     "status": "completed"
    },
    "tags": []
   },
   "outputs": [],
   "source": [
    "df = pd.DataFrame(data)"
   ]
  },
  {
   "cell_type": "code",
   "execution_count": 4,
   "id": "incorporated-coaching",
   "metadata": {
    "execution": {
     "iopub.execute_input": "2021-04-30T13:03:27.199731Z",
     "iopub.status.busy": "2021-04-30T13:03:27.198889Z",
     "iopub.status.idle": "2021-04-30T13:03:27.202756Z",
     "shell.execute_reply": "2021-04-30T13:03:27.203246Z"
    },
    "papermill": {
     "duration": 0.471457,
     "end_time": "2021-04-30T13:03:27.203427",
     "exception": false,
     "start_time": "2021-04-30T13:03:26.731970",
     "status": "completed"
    },
    "tags": []
   },
   "outputs": [
    {
     "data": {
      "text/plain": [
       "646352"
      ]
     },
     "execution_count": 4,
     "metadata": {},
     "output_type": "execute_result"
    }
   ],
   "source": [
    "df.shape[0]"
   ]
  },
  {
   "cell_type": "code",
   "execution_count": 5,
   "id": "moderate-pointer",
   "metadata": {
    "execution": {
     "iopub.execute_input": "2021-04-30T13:03:28.140899Z",
     "iopub.status.busy": "2021-04-30T13:03:28.140145Z",
     "iopub.status.idle": "2021-04-30T13:03:45.758843Z",
     "shell.execute_reply": "2021-04-30T13:03:45.758265Z"
    },
    "papermill": {
     "duration": 18.100403,
     "end_time": "2021-04-30T13:03:45.758994",
     "exception": false,
     "start_time": "2021-04-30T13:03:27.658591",
     "status": "completed"
    },
    "tags": []
   },
   "outputs": [],
   "source": [
    "df.to_csv('reviews_covid.csv',index=False)"
   ]
  },
  {
   "cell_type": "code",
   "execution_count": null,
   "id": "sexual-workshop",
   "metadata": {
    "papermill": {
     "duration": 0.461163,
     "end_time": "2021-04-30T13:03:46.686098",
     "exception": false,
     "start_time": "2021-04-30T13:03:46.224935",
     "status": "completed"
    },
    "tags": []
   },
   "outputs": [],
   "source": []
  }
 ],
 "metadata": {
  "kernelspec": {
   "display_name": "Python 3",
   "language": "python",
   "name": "python3"
  },
  "language_info": {
   "codemirror_mode": {
    "name": "ipython",
    "version": 3
   },
   "file_extension": ".py",
   "mimetype": "text/x-python",
   "name": "python",
   "nbconvert_exporter": "python",
   "pygments_lexer": "ipython3",
   "version": "3.7.10"
  },
  "papermill": {
   "default_parameters": {},
   "duration": 190.192891,
   "end_time": "2021-04-30T13:03:49.122185",
   "environment_variables": {},
   "exception": null,
   "input_path": "__notebook__.ipynb",
   "output_path": "__notebook__.ipynb",
   "parameters": {},
   "start_time": "2021-04-30T13:00:38.929294",
   "version": "2.3.3"
  }
 },
 "nbformat": 4,
 "nbformat_minor": 5
}
